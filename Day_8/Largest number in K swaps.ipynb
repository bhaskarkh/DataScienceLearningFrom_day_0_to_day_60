{
 "cells": [
  {
   "cell_type": "markdown",
   "id": "44359a14",
   "metadata": {},
   "source": [
    "# Largest number in K swaps"
   ]
  },
  {
   "cell_type": "raw",
   "id": "7416ce48",
   "metadata": {},
   "source": [
    "Given a number K and string str of digits denoting a \n",
    "positive integer,build the largest number possible by performing\n",
    "swap operations on the digits of str at most K times."
   ]
  },
  {
   "cell_type": "raw",
   "id": "0ee5d0e9",
   "metadata": {},
   "source": [
    "Input:\n",
    "K = 4\n",
    "str = \"1234567\"\n",
    "Output:\n",
    "7654321"
   ]
  },
  {
   "cell_type": "code",
   "execution_count": 155,
   "id": "df76e850",
   "metadata": {},
   "outputs": [],
   "source": [
    "def findMaxwithindexrighttoleft(arr,n):\n",
    "    print(arr)\n",
    "    tempMax=-1\n",
    "    index=0+n\n",
    "    for i in range(len(arr)-1,-1,-1):\n",
    "        print(\"i=\",i,\"n=\",n)\n",
    "        if arr[i]>tempMax:\n",
    "            tempMax=arr[i]\n",
    "            \n",
    "            index=i+n\n",
    "    \n",
    "    return tempMax,index\n",
    "\n",
    "def findMaxwithindexlefttoright(arr,n):\n",
    "    print(arr)\n",
    "    tempMax=-1\n",
    "    index=0+n\n",
    "    for i in range(len(arr)-1,-1,-1):\n",
    "        print(\"i=\",i,\"n=\",n)\n",
    "        if arr[i]>tempMax:\n",
    "            tempMax=arr[i]\n",
    "            \n",
    "            index=i+n\n",
    "    \n",
    "    return tempMax,index\n",
    "\n",
    "def findMaximumNum(s,k):\n",
    "    size=len(s)\n",
    "    right=size-1\n",
    "    numArray=[]\n",
    "    for x in s:\n",
    "        numArray.append(int(x))\n",
    "    \n",
    "\n",
    "    count=0\n",
    "    leftcount=0\n",
    "    for i in range(right):\n",
    "        print(\"count= \",count)\n",
    "        if count > k and leftcount > k:\n",
    "            break\n",
    "        else:\n",
    "            if (i+1)<right:\n",
    "                print(\"inside if\")\n",
    "                if count==k:\n",
    "                    \n",
    "                    pass \n",
    "                else:\n",
    "                    maxV,maxIndex=findMaxwithindexrighttoleft(numArray[i+1:],i+1)\n",
    "                    if numArray[i]<maxV:\n",
    "                    print(maxV,\"index= \",maxIndex)\n",
    "                    print(\"befor swap\",numArray)\n",
    "\n",
    "                    numArray[i],numArray[maxIndex]=numArray[maxIndex],numArray[i]\n",
    "                    print(\"After swap\",numArray)\n",
    "                    count+=1\n",
    "                if leftcount==k:\n",
    "                    pass\n",
    "                else:\n",
    "                    \n",
    "                    maxVleft,maxIndexleft=findMaxwithindexlefttoright(numArray[i+1:],i+1)\n",
    "                        if numArray[i]<maxVleft:\n",
    "                        print(maxVleft,\"index= \",maxIndexleft)\n",
    "                        print(\"befor swap\",numArray)\n",
    "\n",
    "                        numArray[i],numArray[maxIndexleft]=numArray[maxIndexleft],numArray[i]\n",
    "                        print(\"After swap\",numArray)\n",
    "                        leftcount+=1\n",
    "            else:\n",
    "                break\n",
    "    \n",
    "            \n",
    "    retS=\"\"\n",
    "    for x in numArray:\n",
    "        retS+=str(x)\n",
    "    \n",
    "    return retS\n",
    "            \n",
    "                \n",
    "        "
   ]
  },
  {
   "cell_type": "code",
   "execution_count": 158,
   "id": "2e26be2b",
   "metadata": {},
   "outputs": [
    {
     "name": "stdout",
     "output_type": "stream",
     "text": [
      "count=  0\n",
      "0\n",
      "-------------------------------- 1 10\n",
      "inside if\n",
      "[1, 8, 9, 2, 7, 9, 5, 4, 3, 1]\n",
      "i= 9 n= 1\n",
      "i= 8 n= 1\n",
      "i= 7 n= 1\n",
      "i= 6 n= 1\n",
      "i= 5 n= 1\n",
      "i= 4 n= 1\n",
      "i= 3 n= 1\n",
      "i= 2 n= 1\n",
      "i= 1 n= 1\n",
      "i= 0 n= 1\n",
      "9 index=  6\n",
      "befor swap [6, 1, 8, 9, 2, 7, 9, 5, 4, 3, 1]\n",
      "After swap [9, 1, 8, 9, 2, 7, 6, 5, 4, 3, 1]\n",
      "count=  1\n",
      "1\n",
      "-------------------------------- 2 10\n",
      "inside if\n",
      "[8, 9, 2, 7, 6, 5, 4, 3, 1]\n",
      "i= 8 n= 2\n",
      "i= 7 n= 2\n",
      "i= 6 n= 2\n",
      "i= 5 n= 2\n",
      "i= 4 n= 2\n",
      "i= 3 n= 2\n",
      "i= 2 n= 2\n",
      "i= 1 n= 2\n",
      "i= 0 n= 2\n",
      "9 index=  3\n",
      "befor swap [9, 1, 8, 9, 2, 7, 6, 5, 4, 3, 1]\n",
      "After swap [9, 9, 8, 1, 2, 7, 6, 5, 4, 3, 1]\n",
      "count=  2\n",
      "2\n",
      "-------------------------------- 3 10\n",
      "inside if\n",
      "[1, 2, 7, 6, 5, 4, 3, 1]\n",
      "i= 7 n= 3\n",
      "i= 6 n= 3\n",
      "i= 5 n= 3\n",
      "i= 4 n= 3\n",
      "i= 3 n= 3\n",
      "i= 2 n= 3\n",
      "i= 1 n= 3\n",
      "i= 0 n= 3\n",
      "count=  2\n",
      "3\n",
      "-------------------------------- 4 10\n",
      "inside if\n",
      "[2, 7, 6, 5, 4, 3, 1]\n",
      "i= 6 n= 4\n",
      "i= 5 n= 4\n",
      "i= 4 n= 4\n",
      "i= 3 n= 4\n",
      "i= 2 n= 4\n",
      "i= 1 n= 4\n",
      "i= 0 n= 4\n",
      "7 index=  5\n",
      "befor swap [9, 9, 8, 1, 2, 7, 6, 5, 4, 3, 1]\n",
      "After swap [9, 9, 8, 7, 2, 1, 6, 5, 4, 3, 1]\n",
      "count=  3\n",
      "4\n",
      "-------------------------------- 5 10\n",
      "inside if\n",
      "[1, 6, 5, 4, 3, 1]\n",
      "i= 5 n= 5\n",
      "i= 4 n= 5\n",
      "i= 3 n= 5\n",
      "i= 2 n= 5\n",
      "i= 1 n= 5\n",
      "i= 0 n= 5\n",
      "6 index=  6\n",
      "befor swap [9, 9, 8, 7, 2, 1, 6, 5, 4, 3, 1]\n",
      "After swap [9, 9, 8, 7, 6, 1, 2, 5, 4, 3, 1]\n",
      "count=  4\n"
     ]
    },
    {
     "data": {
      "text/plain": [
       "'99876125431'"
      ]
     },
     "execution_count": 158,
     "metadata": {},
     "output_type": "execute_result"
    }
   ],
   "source": [
    "s=\"61892795431\"\n",
    "k=4\n",
    "findMaximumNum(s,k)"
   ]
  },
  {
   "cell_type": "code",
   "execution_count": null,
   "id": "8358505e",
   "metadata": {},
   "outputs": [],
   "source": [
    "7755511124\n",
    "\n",
    "\n",
    "4551711527\n",
    "\n",
    "7755511124\n",
    "\n",
    "7755111524\n",
    "\n",
    "\n",
    "99876125431"
   ]
  },
  {
   "cell_type": "code",
   "execution_count": 166,
   "id": "99ec46db",
   "metadata": {},
   "outputs": [],
   "source": [
    "def maxNum(arr,k):\n",
    "    numArray=[]\n",
    "    for i in arr:\n",
    "        numArray.append(i)\n",
    "    size=len(numArray)\n",
    "    count=0\n",
    "    for i in range(size):\n",
    "        if count==k:\n",
    "            break\n",
    "        for j in range(i+1,size):\n",
    "            if numArray[i]<numArray[j]:\n",
    "                numArray[i],numArray[j]=numArray[j],numArray[i]\n",
    "                break\n",
    "                count+=1\n",
    "    \n",
    "    return numArray\n",
    "                \n",
    "            \n",
    "        \n",
    "        "
   ]
  },
  {
   "cell_type": "code",
   "execution_count": 167,
   "id": "a1f7651c",
   "metadata": {},
   "outputs": [
    {
     "data": {
      "text/plain": [
       "['8', '6', '9', '2', '7', '9', '5', '4', '3', '1', '1']"
      ]
     },
     "execution_count": 167,
     "metadata": {},
     "output_type": "execute_result"
    }
   ],
   "source": [
    "arr=\"61892795431\"\n",
    "k=4\n",
    "maxNum(arr,k)"
   ]
  },
  {
   "cell_type": "code",
   "execution_count": null,
   "id": "7bac5145",
   "metadata": {},
   "outputs": [],
   "source": []
  }
 ],
 "metadata": {
  "kernelspec": {
   "display_name": "Python 3",
   "language": "python",
   "name": "python3"
  },
  "language_info": {
   "codemirror_mode": {
    "name": "ipython",
    "version": 3
   },
   "file_extension": ".py",
   "mimetype": "text/x-python",
   "name": "python",
   "nbconvert_exporter": "python",
   "pygments_lexer": "ipython3",
   "version": "3.8.1"
  }
 },
 "nbformat": 4,
 "nbformat_minor": 5
}
