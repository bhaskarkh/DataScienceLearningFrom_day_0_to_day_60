{
 "cells": [
  {
   "cell_type": "markdown",
   "id": "d7a4f5b3",
   "metadata": {},
   "source": [
    "# Largest number in K swaps"
   ]
  },
  {
   "cell_type": "raw",
   "id": "6025b36a",
   "metadata": {},
   "source": [
    "Given a number K and string str of digits denoting a \n",
    "positive integer,build the largest number possible by performing\n",
    "swap operations on the digits of str at most K times."
   ]
  },
  {
   "cell_type": "raw",
   "id": "6660bfe8",
   "metadata": {},
   "source": [
    "Input:\n",
    "K = 4\n",
    "str = \"1234567\"\n",
    "Output:\n",
    "7654321"
   ]
  },
  {
   "cell_type": "code",
   "execution_count": 62,
   "id": "0e9acd19",
   "metadata": {},
   "outputs": [],
   "source": [
    "def findMaximumNum(s,k):\n",
    "    size=len(s)\n",
    "    right=size-1\n",
    "    numArray=[]\n",
    "    for x in s:\n",
    "        numArray.append(int(x))\n",
    "    \n",
    "\n",
    "    \n",
    "    for i in range(k+1):\n",
    "        flag=True\n",
    "        for j in range(right,i,-1):\n",
    "            print(\"i= \",i,\">>>\",numArray[i],\" j=\",j,\">>>\",numArray[j])\n",
    "            if numArray[i]<numArray[j]:\n",
    "                numArray[i],numArray[j]=numArray[j],numArray[i]\n",
    "                flag=False\n",
    "                break\n",
    "    retS=\"\"\n",
    "    for x in numArray:\n",
    "        retS+=str(x)\n",
    "    \n",
    "    return retS\n",
    "            \n",
    "                \n",
    "        "
   ]
  },
  {
   "cell_type": "code",
   "execution_count": 63,
   "id": "65601d6e",
   "metadata": {},
   "outputs": [
    {
     "name": "stdout",
     "output_type": "stream",
     "text": [
      "0 >>> 1   3 >>> 4\n",
      "1 >>> 0   3 >>> 1\n",
      "2 >>> 3   3 >>> 0\n"
     ]
    },
    {
     "data": {
      "text/plain": [
       "'4130'"
      ]
     },
     "execution_count": 63,
     "metadata": {},
     "output_type": "execute_result"
    }
   ],
   "source": [
    "s=\"1034\"\n",
    "k=2\n",
    "findMaximumNum(s,k)"
   ]
  },
  {
   "cell_type": "code",
   "execution_count": null,
   "id": "4b507310",
   "metadata": {},
   "outputs": [],
   "source": []
  }
 ],
 "metadata": {
  "kernelspec": {
   "display_name": "Python 3",
   "language": "python",
   "name": "python3"
  },
  "language_info": {
   "codemirror_mode": {
    "name": "ipython",
    "version": 3
   },
   "file_extension": ".py",
   "mimetype": "text/x-python",
   "name": "python",
   "nbconvert_exporter": "python",
   "pygments_lexer": "ipython3",
   "version": "3.8.1"
  }
 },
 "nbformat": 4,
 "nbformat_minor": 5
}
