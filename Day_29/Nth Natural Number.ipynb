{
 "cells": [
  {
   "cell_type": "markdown",
   "id": "e02aec1e",
   "metadata": {},
   "source": [
    "# Nth Natural Number"
   ]
  },
  {
   "cell_type": "code",
   "execution_count": 29,
   "id": "197f68ac",
   "metadata": {},
   "outputs": [],
   "source": [
    "\n",
    "def findNth(N,base):\n",
    "    res=0\n",
    "    mul=1\n",
    "    while N>0:\n",
    "        rem=N%base\n",
    "        q=N//base\n",
    "        print(q)\n",
    "        res+=mul*rem\n",
    "        print(\"res\",res)\n",
    "        mul=mul*10\n",
    "        N=N//base\n",
    "        print(N)\n",
    "    \n",
    "    return res\n",
    "        "
   ]
  },
  {
   "cell_type": "code",
   "execution_count": 30,
   "id": "76dc34a7",
   "metadata": {},
   "outputs": [
    {
     "name": "stdout",
     "output_type": "stream",
     "text": [
      "2\n",
      "res 8\n",
      "2\n",
      "0\n",
      "res 28\n",
      "0\n"
     ]
    },
    {
     "data": {
      "text/plain": [
       "28"
      ]
     },
     "execution_count": 30,
     "metadata": {},
     "output_type": "execute_result"
    }
   ],
   "source": [
    "findNth(26,9)\n"
   ]
  },
  {
   "cell_type": "code",
   "execution_count": null,
   "id": "244f43d1",
   "metadata": {},
   "outputs": [],
   "source": []
  }
 ],
 "metadata": {
  "kernelspec": {
   "display_name": "Python 3",
   "language": "python",
   "name": "python3"
  },
  "language_info": {
   "codemirror_mode": {
    "name": "ipython",
    "version": 3
   },
   "file_extension": ".py",
   "mimetype": "text/x-python",
   "name": "python",
   "nbconvert_exporter": "python",
   "pygments_lexer": "ipython3",
   "version": "3.8.1"
  }
 },
 "nbformat": 4,
 "nbformat_minor": 5
}
