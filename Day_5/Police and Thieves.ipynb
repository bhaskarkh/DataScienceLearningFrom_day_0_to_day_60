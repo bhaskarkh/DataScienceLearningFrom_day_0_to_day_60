{
 "cells": [
  {
   "cell_type": "markdown",
   "metadata": {},
   "source": [
    "## Normal Solution"
   ]
  },
  {
   "cell_type": "code",
   "execution_count": 117,
   "metadata": {},
   "outputs": [],
   "source": [
    "    def catchThieves( arr, n, k): \n",
    "        # code here \n",
    "        count=0\n",
    "        lastIndex=len(arr)-1\n",
    "        \n",
    "        print(lastIndex)\n",
    "        for i,x in enumerate(arr):\n",
    "            flag=True\n",
    "            if x=='P':\n",
    "                for j in range(k,0,-1):\n",
    "                    left=i-j\n",
    "                    right=abs(k-j)\n",
    "                    \n",
    "                    if left>=0:\n",
    "                        if arr[left]=='T':\n",
    "                            arr[left]='D'\n",
    "                            count+=1\n",
    "                            flag=False\n",
    "                            \n",
    "                            #print(i,\"====>\",left)\n",
    "                            break\n",
    "                if flag:\n",
    "                    for x in range(1,k+1):\n",
    "                        right=i+x\n",
    "                        if right<=lastIndex:\n",
    "                                if arr[right]=='T':\n",
    "                                    arr[right]='D'\n",
    "                                    count+=1\n",
    "                                    flag=False\n",
    "                                    #print(i,\"====>\",right)\n",
    "                                    break\n",
    "            \n",
    "                    \n",
    "                \n",
    "           \n",
    "        return count"
   ]
  },
  {
   "cell_type": "code",
   "execution_count": 118,
   "metadata": {},
   "outputs": [
    {
     "name": "stdout",
     "output_type": "stream",
     "text": [
      "88\n"
     ]
    },
    {
     "data": {
      "text/plain": [
       "38"
      ]
     },
     "execution_count": 118,
     "metadata": {},
     "output_type": "execute_result"
    }
   ],
   "source": [
    "N = 89\n",
    "K = 4\n",
    "arr = ['T', 'P', 'P', 'P', 'T', 'T', 'P', 'T', 'P', 'T', 'P', 'P', 'T', 'T', 'P', 'T', 'T', 'P', 'P', 'P', 'P', 'P', 'T', 'T', 'P', 'T', 'P', 'T', 'T', 'T', 'P', 'P', 'P', 'P', 'T', 'T', 'P', 'T', 'P', 'T', 'P', 'T', 'T', 'P', 'T', 'P', 'T', 'T', 'P', 'T', 'T', 'T', 'T', 'T', 'T', 'T', 'P', 'P', 'T', 'P', 'T', 'P', 'T', 'P', 'P', 'T', 'T', 'P', 'P', 'T', 'T', 'T', 'T', 'T', 'T', 'T', 'T', 'T', 'T', 'P', 'T', 'P', 'P', 'P', 'P', 'T', 'P', 'T', 'T']\n",
    "catchThieves(arr,N,K)"
   ]
  },
  {
   "cell_type": "code",
   "execution_count": 119,
   "metadata": {},
   "outputs": [
    {
     "name": "stdout",
     "output_type": "stream",
     "text": [
      "4\n"
     ]
    },
    {
     "data": {
      "text/plain": [
       "2"
      ]
     },
     "execution_count": 119,
     "metadata": {},
     "output_type": "execute_result"
    }
   ],
   "source": [
    "rr=['P', 'T', 'T', 'P', 'T']\n",
    "N=5\n",
    "K=1\n",
    "catchThieves(rr,N,K)"
   ]
  },
  {
   "cell_type": "markdown",
   "metadata": {},
   "source": [
    "## Optimize Solution"
   ]
  },
  {
   "cell_type": "code",
   "execution_count": 131,
   "metadata": {},
   "outputs": [],
   "source": [
    "def optimizedcatchThieves( arr, n, k): \n",
    "        # code here \n",
    "        count=0\n",
    "        lastIndex=len(arr)-1\n",
    "        pList=[]\n",
    "        tList=[]\n",
    "        left=0\n",
    "        right=0\n",
    "        \n",
    "        \n",
    "        \n",
    "        for i,x in enumerate(arr):\n",
    "            if x=='P':\n",
    "                pList.append(i)\n",
    "            else:\n",
    "                tList.append(i)\n",
    "        \n",
    "        \n",
    "        while left<len(tList) and right<len(pList):\n",
    "            if abs(tList[left]-pList[right])<=k:\n",
    "                count+=1\n",
    "                left+=1\n",
    "                right+=1\n",
    "            elif tList[left]<pList[right]:\n",
    "                left+=1\n",
    "            else:\n",
    "                right+=1\n",
    "                \n",
    "            \n",
    "            \n",
    "            \n",
    "                \n",
    "      \n",
    "        return count"
   ]
  },
  {
   "cell_type": "code",
   "execution_count": 130,
   "metadata": {},
   "outputs": [
    {
     "name": "stdout",
     "output_type": "stream",
     "text": [
      "4\n"
     ]
    },
    {
     "data": {
      "text/plain": [
       "2"
      ]
     },
     "execution_count": 130,
     "metadata": {},
     "output_type": "execute_result"
    }
   ],
   "source": [
    "optimizedcatchThieves(rr,N,K)"
   ]
  },
  {
   "cell_type": "code",
   "execution_count": null,
   "metadata": {},
   "outputs": [],
   "source": []
  }
 ],
 "metadata": {
  "kernelspec": {
   "display_name": "Python 3",
   "language": "python",
   "name": "python3"
  },
  "language_info": {
   "codemirror_mode": {
    "name": "ipython",
    "version": 3
   },
   "file_extension": ".py",
   "mimetype": "text/x-python",
   "name": "python",
   "nbconvert_exporter": "python",
   "pygments_lexer": "ipython3",
   "version": "3.8.3"
  }
 },
 "nbformat": 4,
 "nbformat_minor": 4
}
