{
 "cells": [
  {
   "cell_type": "code",
   "execution_count": 1,
   "metadata": {},
   "outputs": [
    {
     "data": {
      "text/plain": [
       "array([5.3775376 , 8.17290375, 4.7386309 , 7.60217198, 4.87334244,\n",
       "       7.69584917, 4.45459951, 8.38309046, 3.03299975, 6.28876273,\n",
       "       3.83152591, 7.03255939, 0.77383132, 1.90148593, 2.11927768,\n",
       "       1.33906382, 7.53066181, 8.92037227, 4.12472592, 0.53578364,\n",
       "       9.55493608, 1.2688382 , 8.48629201, 7.39941509, 9.69423111,\n",
       "       8.29937741, 2.73882367, 3.74529901, 7.07571837, 1.88724873,\n",
       "       5.94788552, 8.32215617, 4.44404944, 0.72920656, 3.56998266,\n",
       "       6.5315778 , 1.41838172, 7.36429416, 2.91004601, 1.97524224,\n",
       "       8.63721175, 5.85455709, 8.06972236, 0.33295267, 8.17523133,\n",
       "       7.95188232, 1.40764713, 4.75720853, 8.99358543, 5.49659931])"
      ]
     },
     "execution_count": 1,
     "metadata": {},
     "output_type": "execute_result"
    }
   ],
   "source": [
    "import numpy as np \n",
    "np.random.uniform(low=0,high=10,size=50)"
   ]
  },
  {
   "cell_type": "code",
   "execution_count": null,
   "metadata": {},
   "outputs": [],
   "source": []
  }
 ],
 "metadata": {
  "kernelspec": {
   "display_name": "Python 3",
   "language": "python",
   "name": "python3"
  },
  "language_info": {
   "codemirror_mode": {
    "name": "ipython",
    "version": 3
   },
   "file_extension": ".py",
   "mimetype": "text/x-python",
   "name": "python",
   "nbconvert_exporter": "python",
   "pygments_lexer": "ipython3",
   "version": "3.8.3"
  }
 },
 "nbformat": 4,
 "nbformat_minor": 4
}
