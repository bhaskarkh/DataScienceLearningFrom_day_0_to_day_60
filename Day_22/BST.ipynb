{
 "cells": [
  {
   "cell_type": "markdown",
   "metadata": {},
   "source": [
    "# make a BST and implement insert and remove"
   ]
  },
  {
   "cell_type": "code",
   "execution_count": 23,
   "metadata": {},
   "outputs": [],
   "source": [
    "class BST:\n",
    "    def __init__(self,data):\n",
    "        self.data=data\n",
    "        self.left=None\n",
    "        self.right=None\n",
    "    \n",
    "    def add_child(self,data):\n",
    "        if data==self.data:\n",
    "            return\n",
    "        \n",
    "        if data<self.data:\n",
    "            if self.left:\n",
    "                self.left.add_child(data)\n",
    "            else:\n",
    "                self.left=BST(data)\n",
    "        else:\n",
    "            if self.right:\n",
    "                self.right.add_child(data)\n",
    "            else:\n",
    "                self.right=BST(data)\n",
    "    \n",
    "    def inOrderTraversal(self):\n",
    "        elements=[]\n",
    "        \n",
    "        if self.left:\n",
    "            elements+=self.left.inOrderTraversal()\n",
    "        \n",
    "        elements.append(self.data)\n",
    "        \n",
    "        if self.right:\n",
    "            elements+=self.right.inOrderTraversal()\n",
    "        \n",
    "        return elements\n",
    "    \n",
    "    def preOrderTraversal(self):\n",
    "        elements=[]\n",
    "        \n",
    "        if self.left:\n",
    "            elements+=self.left.preOrderTraversal()\n",
    "        \n",
    "        if self.right:\n",
    "            elements+=self.right.preOrderTraversal()\n",
    "        \n",
    "        elements.append(self.data)\n",
    "        \n",
    "        return elements\n",
    "        \n",
    "        \n",
    "            \n",
    "            \n",
    "    \n",
    "    \n",
    "    "
   ]
  },
  {
   "cell_type": "code",
   "execution_count": 24,
   "metadata": {},
   "outputs": [
    {
     "name": "stdout",
     "output_type": "stream",
     "text": [
      "[17, 4, 1, 20, 9, 23, 18, 34]\n",
      "[1, 4, 9, 17, 18, 20, 23, 34]\n",
      "[1, 9, 4, 18, 34, 23, 20, 17]\n"
     ]
    }
   ],
   "source": [
    "def build_tree(elements):\n",
    "    root=BST(elements[0])\n",
    "    for i in range(1,len(elements)):\n",
    "        \n",
    "        root.add_child(elements[i])\n",
    "    return root\n",
    "\n",
    "numbers=[17,4,1,20,9,23,18,34]\n",
    "print(numbers)\n",
    "trr=build_tree(numbers)\n",
    "print(trr.inOrderTraversal())\n",
    "print(trr.preOrderTraversal())"
   ]
  },
  {
   "cell_type": "code",
   "execution_count": null,
   "metadata": {},
   "outputs": [],
   "source": []
  }
 ],
 "metadata": {
  "kernelspec": {
   "display_name": "Python 3",
   "language": "python",
   "name": "python3"
  },
  "language_info": {
   "codemirror_mode": {
    "name": "ipython",
    "version": 3
   },
   "file_extension": ".py",
   "mimetype": "text/x-python",
   "name": "python",
   "nbconvert_exporter": "python",
   "pygments_lexer": "ipython3",
   "version": "3.8.3"
  }
 },
 "nbformat": 4,
 "nbformat_minor": 4
}
