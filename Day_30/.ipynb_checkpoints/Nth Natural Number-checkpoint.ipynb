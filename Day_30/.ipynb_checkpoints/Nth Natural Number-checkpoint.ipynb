{
 "cells": [
  {
   "cell_type": "markdown",
   "id": "b417e5bd",
   "metadata": {},
   "source": [
    "# Nth Natural Number"
   ]
  },
  {
   "cell_type": "code",
   "execution_count": 4,
   "id": "5b8fb206",
   "metadata": {},
   "outputs": [],
   "source": [
    "def findNth(N,base):\n",
    "    res=0\n",
    "    q=0\n",
    "    count=0\n",
    "    while N>0:\n",
    "        rem=N%base\n",
    "        res+=9**count * rem\n",
    "        count+=1\n",
    "        \n",
    "        "
   ]
  },
  {
   "cell_type": "code",
   "execution_count": 5,
   "id": "a765079b",
   "metadata": {},
   "outputs": [
    {
     "name": "stdout",
     "output_type": "stream",
     "text": [
      "1111113489.8888888\n"
     ]
    },
    {
     "data": {
      "text/plain": [
       "11111134898"
      ]
     },
     "execution_count": 5,
     "metadata": {},
     "output_type": "execute_result"
    }
   ],
   "source": [
    "findNth(9)\n"
   ]
  },
  {
   "cell_type": "code",
   "execution_count": null,
   "id": "cd2e67ca",
   "metadata": {},
   "outputs": [],
   "source": []
  }
 ],
 "metadata": {
  "kernelspec": {
   "display_name": "Python 3",
   "language": "python",
   "name": "python3"
  },
  "language_info": {
   "codemirror_mode": {
    "name": "ipython",
    "version": 3
   },
   "file_extension": ".py",
   "mimetype": "text/x-python",
   "name": "python",
   "nbconvert_exporter": "python",
   "pygments_lexer": "ipython3",
   "version": "3.8.1"
  }
 },
 "nbformat": 4,
 "nbformat_minor": 5
}
