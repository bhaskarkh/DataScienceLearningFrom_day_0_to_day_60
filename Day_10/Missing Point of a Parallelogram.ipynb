{
 "cells": [
  {
   "cell_type": "markdown",
   "metadata": {},
   "source": [
    "## Missing Point of a Parallelogram"
   ]
  },
  {
   "cell_type": "raw",
   "metadata": {},
   "source": [
    "Given three coordinate points A, B and C, find the missing\n",
    "point D such that ABCD can be a parallelogram.\n",
    "If there are multiple such points,\n",
    "find the lexicographically smallest coordinate."
   ]
  },
  {
   "cell_type": "raw",
   "metadata": {},
   "source": [
    "Input:\n",
    "A = (3, 2)\n",
    "B = (3, 4)\n",
    "c = (2, 2)\n",
    "Output:\n",
    "2.000000 0.000000\n",
    "Explanation: There are two options for \n",
    "point D : (2, 4) and (2, 0) such that ABCD \n",
    "forms a parallelogram. Since (2, 0) is \n",
    "lexicographically smaller than (2, 4). Hence,\n",
    "(2, 0) is the answer."
   ]
  },
  {
   "cell_type": "code",
   "execution_count": 5,
   "metadata": {},
   "outputs": [],
   "source": [
    "class Solution:\n",
    "    def findPoint(self,A, B, C):\n",
    "        print(A,B,C)\n",
    "    "
   ]
  },
  {
   "cell_type": "code",
   "execution_count": 2,
   "metadata": {},
   "outputs": [],
   "source": [
    "A=[3,2]\n",
    "B=[3,4]\n",
    "C=[2,2]"
   ]
  },
  {
   "cell_type": "code",
   "execution_count": 6,
   "metadata": {},
   "outputs": [
    {
     "name": "stdout",
     "output_type": "stream",
     "text": [
      "[3, 2] [3, 4] [2, 2]\n"
     ]
    }
   ],
   "source": [
    "sol=Solution()\n",
    "sol.findPoint(A,B,C)"
   ]
  },
  {
   "cell_type": "raw",
   "metadata": {},
   "source": [
    "540 671\n",
    "420 604\n",
    "306 223"
   ]
  },
  {
   "cell_type": "raw",
   "metadata": {},
   "source": [
    "186.000000 156.000000"
   ]
  },
  {
   "cell_type": "code",
   "execution_count": 15,
   "metadata": {},
   "outputs": [],
   "source": [
    "x=[540,420,306]\n",
    "y=[671,604,223]"
   ]
  },
  {
   "cell_type": "code",
   "execution_count": 9,
   "metadata": {},
   "outputs": [],
   "source": [
    "import seaborn as sns"
   ]
  },
  {
   "cell_type": "code",
   "execution_count": 16,
   "metadata": {},
   "outputs": [
    {
     "data": {
      "text/plain": [
       "<matplotlib.axes._subplots.AxesSubplot at 0x217d8d09ee0>"
      ]
     },
     "execution_count": 16,
     "metadata": {},
     "output_type": "execute_result"
    },
    {
     "data": {
      "image/png": "[encoded data removed]",
      "text/plain": [
       "<Figure size 432x288 with 1 Axes>"
      ]
     },
     "metadata": {
      "needs_background": "light"
     },
     "output_type": "display_data"
    }
   ],
   "source": [
    "sns.scatterplot(x,y)"
   ]
  },
  {
   "cell_type": "code",
   "execution_count": null,
   "metadata": {},
   "outputs": [],
   "source": []
  }
 ],
 "metadata": {
  "kernelspec": {
   "display_name": "Python 3",
   "language": "python",
   "name": "python3"
  },
  "language_info": {
   "codemirror_mode": {
    "name": "ipython",
    "version": 3
   },
   "file_extension": ".py",
   "mimetype": "text/x-python",
   "name": "python",
   "nbconvert_exporter": "python",
   "pygments_lexer": "ipython3",
   "version": "3.8.3"
  }
 },
 "nbformat": 4,
 "nbformat_minor": 4
}
