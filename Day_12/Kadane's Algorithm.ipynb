{
 "cells": [
  {
   "cell_type": "markdown",
   "metadata": {},
   "source": [
    "# Kadane's Algorithm \n",
    "Given an array arr of N integers. Find the contiguous sub-array with maximum sum.\n"
   ]
  },
  {
   "cell_type": "raw",
   "metadata": {},
   "source": [
    "Input:\n",
    "N = 5\n",
    "arr[] = {1,2,3,-2,5}\n",
    "Output:\n",
    "9\n",
    "Explanation:\n",
    "Max subarray sum is 9\n",
    "of elements (1, 2, 3, -2, 5) which \n",
    "is a contiguous subarray."
   ]
  },
  {
   "cell_type": "markdown",
   "metadata": {},
   "source": [
    "## Brute Force Method"
   ]
  },
  {
   "cell_type": "code",
   "execution_count": 26,
   "metadata": {},
   "outputs": [],
   "source": [
    "class Solution:\n",
    "    ##Complete this function\n",
    "    #Function to find the sum of contiguous subarray with maximum sum.\n",
    "    \n",
    "    def maxSubArraySum(self,a,size):\n",
    "        Max=a[0]\n",
    "        \n",
    "        for i,x in enumerate(a):\n",
    "            tempMax=x\n",
    "            if tempMax>Max:\n",
    "                    Max=tempMax\n",
    "            \n",
    "            for j in range(i+1,len(a)):\n",
    "                y=a[j]\n",
    "                tempMax+=y\n",
    "                if tempMax>Max:\n",
    "                    Max=tempMax\n",
    "        \n",
    "        return Max\n",
    "                \n",
    "                \n",
    "            \n",
    "            \n",
    "        "
   ]
  },
  {
   "cell_type": "code",
   "execution_count": 7,
   "metadata": {},
   "outputs": [],
   "source": []
  },
  {
   "cell_type": "code",
   "execution_count": 27,
   "metadata": {},
   "outputs": [
    {
     "data": {
      "text/plain": [
       "78"
      ]
     },
     "execution_count": 27,
     "metadata": {},
     "output_type": "execute_result"
    }
   ],
   "source": [
    "ab=Solution()\n",
    "n=5\n",
    "#arr=[1,2,3,-2,5]\n",
    "arr=[-99,-26,78,-50,-12,-10]\n",
    "ab.maxSubArraySum(arr,n)"
   ]
  },
  {
   "cell_type": "markdown",
   "metadata": {},
   "source": [
    "# Optimized Solution"
   ]
  },
  {
   "cell_type": "code",
   "execution_count": 66,
   "metadata": {},
   "outputs": [],
   "source": [
    "class OptimizedSolution:\n",
    "    ##Complete this function\n",
    "    #Function to find the sum of contiguous subarray with maximum sum.\n",
    "    \n",
    "    def maxSubArraySum(self,a,size):\n",
    "        tempMax=a[0]\n",
    "        Max=a[0]\n",
    "        left=0\n",
    "        for i in range(1,len(a)):\n",
    "            print(\" i>> \",i,\" a>>i \",a[i],\" tempMax= \",tempMax,\" temp+a i\",tempMax+a[i],\" Max= \",Max)\n",
    "            if(a[i]>(tempMax+a[i])):\n",
    "                \n",
    "                left=i\n",
    "                tempMax=a[i]\n",
    "                print(\"left= \",left,\"tempMax\",tempMax)\n",
    "            else:\n",
    "                print(\"inside else\")\n",
    "                tempMax+=a[i]\n",
    "            \n",
    "            if tempMax>Max:\n",
    "                print(\"inside\")\n",
    "                Max=tempMax\n",
    "            \n",
    "           \n",
    "            \n",
    "        \n",
    "        \n",
    "        return Max\n",
    "            \n",
    "            \n",
    "        \n",
    "        "
   ]
  },
  {
   "cell_type": "code",
   "execution_count": 67,
   "metadata": {},
   "outputs": [
    {
     "name": "stdout",
     "output_type": "stream",
     "text": [
      " i>>  1  a>>i  -51  tempMax=  9  temp+a i -42  Max=  9\n",
      "inside else\n",
      " i>>  2  a>>i  -20  tempMax=  -42  temp+a i -62  Max=  9\n",
      "left=  2 tempMax -20\n",
      " i>>  3  a>>i  -13  tempMax=  -20  temp+a i -33  Max=  9\n",
      "left=  3 tempMax -13\n",
      " i>>  4  a>>i  -51  tempMax=  -13  temp+a i -64  Max=  9\n",
      "left=  4 tempMax -51\n",
      " i>>  5  a>>i  40  tempMax=  -51  temp+a i -11  Max=  9\n",
      "left=  5 tempMax 40\n",
      "inside\n",
      " i>>  6  a>>i  -21  tempMax=  40  temp+a i 19  Max=  40\n",
      "inside else\n",
      " i>>  7  a>>i  75  tempMax=  19  temp+a i 94  Max=  40\n",
      "inside else\n",
      "inside\n",
      " i>>  8  a>>i  -24  tempMax=  94  temp+a i 70  Max=  94\n",
      "inside else\n",
      " i>>  9  a>>i  29  tempMax=  70  temp+a i 99  Max=  94\n",
      "inside else\n",
      "inside\n",
      " i>>  10  a>>i  -86  tempMax=  99  temp+a i 13  Max=  99\n",
      "inside else\n",
      " i>>  11  a>>i  5  tempMax=  13  temp+a i 18  Max=  99\n",
      "inside else\n",
      " i>>  12  a>>i  -38  tempMax=  18  temp+a i -20  Max=  99\n",
      "inside else\n",
      " i>>  13  a>>i  15  tempMax=  -20  temp+a i -5  Max=  99\n",
      "left=  13 tempMax 15\n",
      " i>>  14  a>>i  48  tempMax=  15  temp+a i 63  Max=  99\n",
      "inside else\n",
      " i>>  15  a>>i  -87  tempMax=  63  temp+a i -24  Max=  99\n",
      "inside else\n",
      " i>>  16  a>>i  -9  tempMax=  -24  temp+a i -33  Max=  99\n",
      "left=  16 tempMax -9\n",
      " i>>  17  a>>i  42  tempMax=  -9  temp+a i 33  Max=  99\n",
      "left=  17 tempMax 42\n",
      " i>>  18  a>>i  39  tempMax=  42  temp+a i 81  Max=  99\n",
      "inside else\n",
      " i>>  19  a>>i  64  tempMax=  81  temp+a i 145  Max=  99\n",
      "inside else\n",
      "inside\n",
      " i>>  20  a>>i  47  tempMax=  145  temp+a i 192  Max=  145\n",
      "inside else\n",
      "inside\n",
      " i>>  21  a>>i  -63  tempMax=  192  temp+a i 129  Max=  192\n",
      "inside else\n",
      " i>>  22  a>>i  22  tempMax=  129  temp+a i 151  Max=  192\n",
      "inside else\n",
      " i>>  23  a>>i  -81  tempMax=  151  temp+a i 70  Max=  192\n",
      "inside else\n",
      " i>>  24  a>>i  -20  tempMax=  70  temp+a i 50  Max=  192\n",
      "inside else\n",
      " i>>  25  a>>i  -100  tempMax=  50  temp+a i -50  Max=  192\n",
      "inside else\n",
      " i>>  26  a>>i  28  tempMax=  -50  temp+a i -22  Max=  192\n",
      "left=  26 tempMax 28\n"
     ]
    },
    {
     "data": {
      "text/plain": [
       "192"
      ]
     },
     "execution_count": 67,
     "metadata": {},
     "output_type": "execute_result"
    }
   ],
   "source": [
    "ab=OptimizedSolution()\n",
    "n=5\n",
    "#arr=[1,2,3,-2,5]\n",
    "#arr=[-99,-26,78,-50,-12,-10]\n",
    "arr=[9,-51,-20,-13,-51,40,-21,75,-24,29,-86,5,-38,15,48,-87,-9,42,39,64,47,-63,22,-81,-20,-100,28]\n",
    "ab.maxSubArraySum(arr,n)"
   ]
  },
  {
   "cell_type": "code",
   "execution_count": 5,
   "metadata": {},
   "outputs": [],
   "source": [
    "def ttt(n):\n",
    "    count=0\n",
    "    while n>5:\n",
    "        count+=n/5\n",
    "        if n%5!=0:\n",
    "            n=n%5\n",
    "        "
   ]
  },
  {
   "cell_type": "code",
   "execution_count": 7,
   "metadata": {},
   "outputs": [
    {
     "data": {
      "text/plain": [
       "76"
      ]
     },
     "execution_count": 7,
     "metadata": {},
     "output_type": "execute_result"
    }
   ],
   "source": [
    "ttt(384)"
   ]
  },
  {
   "cell_type": "code",
   "execution_count": null,
   "metadata": {},
   "outputs": [],
   "source": []
  }
 ],
 "metadata": {
  "kernelspec": {
   "display_name": "Python 3",
   "language": "python",
   "name": "python3"
  },
  "language_info": {
   "codemirror_mode": {
    "name": "ipython",
    "version": 3
   },
   "file_extension": ".py",
   "mimetype": "text/x-python",
   "name": "python",
   "nbconvert_exporter": "python",
   "pygments_lexer": "ipython3",
   "version": "3.8.3"
  }
 },
 "nbformat": 4,
 "nbformat_minor": 4
}
