{
 "cells": [
  {
   "cell_type": "code",
   "execution_count": 3,
   "metadata": {},
   "outputs": [],
   "source": [
    "A=\"abcd\"\n",
    "B=\"cdabcdab\"\n"
   ]
  },
  {
   "cell_type": "code",
   "execution_count": 11,
   "metadata": {},
   "outputs": [],
   "source": [
    "def checkSUbstringMatche(self,firstStr,secondStr):\n",
    "    if firstStr.count(secondStr)>0:\n",
    "        return True\n",
    "    else:\n",
    "        return False\n",
    "        \n",
    "\n",
    "\n",
    "def minRepeats(self,firstStr,secondStr):\n",
    "    isFound=False\n",
    "    repetationCount=1\n",
    "    orginalstr=firstStr\n",
    "    while len(firstStr)<len(secondStr):\n",
    "        print(\"inside while\")\n",
    "        firstStr+=orginalstr\n",
    "        repetationCount+=1\n",
    "    \n",
    "    n=1    \n",
    "    while(n<3):    \n",
    "        if self.checkSUbstringMatche(firstStr,secondStr):\n",
    "            isFound=True\n",
    "            return repetationCount\n",
    "        else:\n",
    "            firstStr+=firstStr\n",
    "            repetationCount+=1\n",
    "            n+=1\n",
    "    if not isFound:\n",
    "        return -1\n",
    "        \n",
    "        \n",
    "    return repetationCount\n",
    "            \n",
    "            \n",
    "        "
   ]
  },
  {
   "cell_type": "code",
   "execution_count": null,
   "metadata": {},
   "outputs": [],
   "source": []
  },
  {
   "cell_type": "code",
   "execution_count": 9,
   "metadata": {},
   "outputs": [
    {
     "name": "stdout",
     "output_type": "stream",
     "text": [
      "check abcde ea\n",
      "count=  0\n",
      "3\n",
      "check abcdeabcde ea\n",
      "count=  0\n",
      "2\n"
     ]
    },
    {
     "data": {
      "text/plain": [
       "2"
      ]
     },
     "execution_count": 9,
     "metadata": {},
     "output_type": "execute_result"
    }
   ],
   "source": [
    "A=\"abcde\"\n",
    "B=\"ea\"\n",
    "findNumberOfRepetation(A,B)"
   ]
  },
  {
   "cell_type": "code",
   "execution_count": null,
   "metadata": {},
   "outputs": [],
   "source": []
  }
 ],
 "metadata": {
  "kernelspec": {
   "display_name": "Python 3",
   "language": "python",
   "name": "python3"
  },
  "language_info": {
   "codemirror_mode": {
    "name": "ipython",
    "version": 3
   },
   "file_extension": ".py",
   "mimetype": "text/x-python",
   "name": "python",
   "nbconvert_exporter": "python",
   "pygments_lexer": "ipython3",
   "version": "3.8.3"
  }
 },
 "nbformat": 4,
 "nbformat_minor": 4
}
