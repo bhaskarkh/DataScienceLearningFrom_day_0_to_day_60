{
 "cells": [
  {
   "cell_type": "code",
   "execution_count": 6,
   "id": "31637da2",
   "metadata": {},
   "outputs": [
    {
     "name": "stdout",
     "output_type": "stream",
     "text": [
      "{1, 2, 3, 5, 9}\n"
     ]
    }
   ],
   "source": [
    "H = [9, 1, 2, 3, 1, 5]\n",
    "mySet=set()\n",
    "for i in H:\n",
    "    mySet.add(i)\n",
    "\n",
    "print(mySet)\n",
    "    \n"
   ]
  },
  {
   "cell_type": "code",
   "execution_count": null,
   "id": "a6355ba0",
   "metadata": {},
   "outputs": [],
   "source": []
  }
 ],
 "metadata": {
  "kernelspec": {
   "display_name": "Python 3",
   "language": "python",
   "name": "python3"
  },
  "language_info": {
   "codemirror_mode": {
    "name": "ipython",
    "version": 3
   },
   "file_extension": ".py",
   "mimetype": "text/x-python",
   "name": "python",
   "nbconvert_exporter": "python",
   "pygments_lexer": "ipython3",
   "version": "3.8.1"
  }
 },
 "nbformat": 4,
 "nbformat_minor": 5
}
