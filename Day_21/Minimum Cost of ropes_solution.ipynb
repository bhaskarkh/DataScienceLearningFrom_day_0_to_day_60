{
 "cells": [
  {
   "cell_type": "markdown",
   "metadata": {},
   "source": [
    "# BruteForce Method"
   ]
  },
  {
   "cell_type": "code",
   "execution_count": 4,
   "metadata": {},
   "outputs": [],
   "source": [
    "def minCost(arr):\n",
    "    if len(arr)<=1:\n",
    "        return 0\n",
    "    totalCost=0\n",
    "    while len(arr)>1:\n",
    "        arr.sort()\n",
    "        tempSum=arr[0]+arr[1]\n",
    "        totalCost+=tempSum\n",
    "        arr.pop(0)\n",
    "        arr.pop(0)\n",
    "        arr.append(tempSum)\n",
    "    return totalCost\n",
    "        \n",
    "        \n",
    "    "
   ]
  },
  {
   "cell_type": "code",
   "execution_count": 5,
   "metadata": {},
   "outputs": [
    {
     "data": {
      "text/plain": [
       "29"
      ]
     },
     "execution_count": 5,
     "metadata": {},
     "output_type": "execute_result"
    }
   ],
   "source": [
    "arr=[4, 3, 2, 6]\n",
    "minCost(arr)"
   ]
  },
  {
   "cell_type": "markdown",
   "metadata": {},
   "source": [
    "# Optimized Solution"
   ]
  },
  {
   "cell_type": "code",
   "execution_count": 12,
   "metadata": {},
   "outputs": [],
   "source": [
    "import heapq as heap\n",
    "\n",
    "def OptimizedMinCost(arr):\n",
    "    if len(arr)<=1:\n",
    "        return 0\n",
    "    totalCost=0\n",
    "    heap.heapify(arr)\n",
    "    \n",
    "    \n",
    "    while len(arr)>1:\n",
    "        fistSmallest=heap.heappop(arr)\n",
    "        secondSmallest=heap.heappop(arr)\n",
    "        tempSum=fistSmallest+secondSmallest\n",
    "        totalCost+=tempSum\n",
    "        heap.heappush(arr,tempSum)\n",
    "        \n",
    "        \n",
    "    return totalCost"
   ]
  },
  {
   "cell_type": "code",
   "execution_count": 13,
   "metadata": {},
   "outputs": [
    {
     "data": {
      "text/plain": [
       "29"
      ]
     },
     "execution_count": 13,
     "metadata": {},
     "output_type": "execute_result"
    }
   ],
   "source": [
    "arr=[4, 3, 2, 6]\n",
    "OptimizedMinCost(arr)"
   ]
  },
  {
   "cell_type": "code",
   "execution_count": null,
   "metadata": {},
   "outputs": [],
   "source": []
  }
 ],
 "metadata": {
  "kernelspec": {
   "display_name": "Python 3",
   "language": "python",
   "name": "python3"
  },
  "language_info": {
   "codemirror_mode": {
    "name": "ipython",
    "version": 3
   },
   "file_extension": ".py",
   "mimetype": "text/x-python",
   "name": "python",
   "nbconvert_exporter": "python",
   "pygments_lexer": "ipython3",
   "version": "3.8.3"
  }
 },
 "nbformat": 4,
 "nbformat_minor": 4
}
