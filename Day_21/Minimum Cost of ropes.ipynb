{
 "cells": [
  {
   "cell_type": "markdown",
   "metadata": {},
   "source": [
    "# Brute force Method"
   ]
  },
  {
   "cell_type": "code",
   "execution_count": 7,
   "metadata": {},
   "outputs": [],
   "source": [
    "def minCost(arr):\n",
    "    totalCost=0\n",
    "    if len(arr)<=1:\n",
    "        return 0\n",
    "    while len(arr)>1:\n",
    "        arr.sort()\n",
    "        tempSum=arr[0]+arr[1]\n",
    "        arr.pop(0)\n",
    "        arr.pop(0)\n",
    "        arr.append(tempSum)\n",
    "        totalCost+=tempSum\n",
    "    return totalCost\n",
    "        \n",
    "        \n",
    "    "
   ]
  },
  {
   "cell_type": "code",
   "execution_count": 8,
   "metadata": {},
   "outputs": [
    {
     "data": {
      "text/plain": [
       "62"
      ]
     },
     "execution_count": 8,
     "metadata": {},
     "output_type": "execute_result"
    }
   ],
   "source": [
    "arr=[4, 2, 7, 6, 9]\n",
    "minCost(arr)"
   ]
  },
  {
   "cell_type": "markdown",
   "metadata": {},
   "source": [
    "# Optimized Solution"
   ]
  },
  {
   "cell_type": "code",
   "execution_count": 11,
   "metadata": {},
   "outputs": [],
   "source": [
    "import heapq as heap\n",
    "def optimizedCost(arr):\n",
    "    heap.heapify(arr)\n",
    "    totalCost=0\n",
    "    if len(arr)<=1:\n",
    "        return 0\n",
    "    while len(arr)>1:\n",
    "        firstLowest=heap.heappop(arr)\n",
    "        secondLowest=heap.heappop(arr)\n",
    "        tempSum=firstLowest+secondLowest\n",
    "        totalCost+=tempSum\n",
    "        heap.heappush(arr,tempSum)\n",
    "    \n",
    "    return totalCost\n",
    "          \n",
    "    "
   ]
  },
  {
   "cell_type": "code",
   "execution_count": 12,
   "metadata": {},
   "outputs": [
    {
     "data": {
      "text/plain": [
       "62"
      ]
     },
     "execution_count": 12,
     "metadata": {},
     "output_type": "execute_result"
    }
   ],
   "source": [
    "arr=[4, 2, 7, 6, 9]\n",
    "optimizedCost(arr)"
   ]
  },
  {
   "cell_type": "code",
   "execution_count": null,
   "metadata": {},
   "outputs": [],
   "source": []
  }
 ],
 "metadata": {
  "kernelspec": {
   "display_name": "Python 3",
   "language": "python",
   "name": "python3"
  },
  "language_info": {
   "codemirror_mode": {
    "name": "ipython",
    "version": 3
   },
   "file_extension": ".py",
   "mimetype": "text/x-python",
   "name": "python",
   "nbconvert_exporter": "python",
   "pygments_lexer": "ipython3",
   "version": "3.8.3"
  }
 },
 "nbformat": 4,
 "nbformat_minor": 4
}
