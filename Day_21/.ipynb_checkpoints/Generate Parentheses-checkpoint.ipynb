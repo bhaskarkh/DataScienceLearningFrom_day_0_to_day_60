{
 "cells": [
  {
   "cell_type": "raw",
   "metadata": {},
   "source": [
    "Input:\n",
    "N = 3\n",
    "Output:\n",
    "((()))\n",
    "(()())\n",
    "(())()\n",
    "()(())\n",
    "()()()"
   ]
  },
  {
   "cell_type": "code",
   "execution_count": 7,
   "metadata": {},
   "outputs": [],
   "source": [
    " class Solution:\n",
    "        def AllParenthesis(self,n):\n",
    "            for i in range(n):\n",
    "                ststart=\"(\"\n",
    "                stend=\")\"\n",
    "                \n",
    "                print(st)"
   ]
  },
  {
   "cell_type": "code",
   "execution_count": 8,
   "metadata": {},
   "outputs": [
    {
     "name": "stdout",
     "output_type": "stream",
     "text": [
      "(((\n",
      "(((\n",
      "(((\n"
     ]
    }
   ],
   "source": [
    "sb=Solution()\n",
    "sb.AllParenthesis(3)"
   ]
  },
  {
   "cell_type": "code",
   "execution_count": null,
   "metadata": {},
   "outputs": [],
   "source": []
  }
 ],
 "metadata": {
  "kernelspec": {
   "display_name": "Python 3",
   "language": "python",
   "name": "python3"
  },
  "language_info": {
   "codemirror_mode": {
    "name": "ipython",
    "version": 3
   },
   "file_extension": ".py",
   "mimetype": "text/x-python",
   "name": "python",
   "nbconvert_exporter": "python",
   "pygments_lexer": "ipython3",
   "version": "3.8.3"
  }
 },
 "nbformat": 4,
 "nbformat_minor": 4
}
