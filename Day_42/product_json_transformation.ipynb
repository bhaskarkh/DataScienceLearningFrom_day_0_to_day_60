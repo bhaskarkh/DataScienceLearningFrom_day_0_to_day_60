{
 "cells": [
  {
   "cell_type": "code",
   "execution_count": 1,
   "id": "fdc0f90f",
   "metadata": {},
   "outputs": [],
   "source": [
    "import pandas as pd"
   ]
  },
  {
   "cell_type": "code",
   "execution_count": 13,
   "id": "b90eeab5",
   "metadata": {},
   "outputs": [
    {
     "name": "stdout",
     "output_type": "stream",
     "text": [
      "1610807517749\n",
      "1610807337640\n",
      "1610807723996\n",
      "1610807162936\n",
      "1610806983698\n",
      "1610806704543\n",
      "782\n",
      "765\n",
      "8\n"
     ]
    }
   ],
   "source": [
    "df=pd.read_json(\"product.json\")\n",
    "df = df[df['Civil'].notna()]\n",
    "size=len(df['Civil'])\n",
    "\n",
    "for i in range(size):\n",
    "    str1=\"INSERT INTO product.product(`addedBy`, `amountAvailable`, `category`, `delevieryPersonRequired`, `description`, `discountProduct`, `id`, `image`, `mrpPrice`, `myPrice`, `name`, `price`, `productTypeId`, `quantity`, `quantityType`, `recentlyViewProduct`, `showCost`, `supplierId`, `supplierName`)\n",
    "VALUES ('bhaskar', 1, 'Civil', 'false', 'Entire team of construction workers (from labour to mistree) with all construction equipments.', 'true', 1610807517749, 'https://firebasestorage.googleapis.com/v0/b/doorstep-a5714.appspot.com/o/product%2FCivil%2FConstruction.jpg?alt=media&token=23f17acc-340b-4e78-9f57-fb1e5e0bfc15', 150, 500, 'Construction', 500, 'Construction', 1, 'NA', 'true', 'true', 'supplierId', 'supplierName');\"\n",
    "\n",
    "\n",
    "    print(df['Civil'][i]['id'])\n",
    "print(size)"
   ]
  },
  {
   "cell_type": "code",
   "execution_count": null,
   "id": "beddfa8b",
   "metadata": {},
   "outputs": [],
   "source": []
  }
 ],
 "metadata": {
  "kernelspec": {
   "display_name": "Python 3",
   "language": "python",
   "name": "python3"
  },
  "language_info": {
   "codemirror_mode": {
    "name": "ipython",
    "version": 3
   },
   "file_extension": ".py",
   "mimetype": "text/x-python",
   "name": "python",
   "nbconvert_exporter": "python",
   "pygments_lexer": "ipython3",
   "version": "3.8.1"
  }
 },
 "nbformat": 4,
 "nbformat_minor": 5
}
