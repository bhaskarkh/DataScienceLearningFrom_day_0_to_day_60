{
 "cells": [
  {
   "cell_type": "markdown",
   "metadata": {},
   "source": [
    "# Minimum XOR value pair\n",
    "\n",
    "Given an array of integers of size N find minimum xor of any 2 elements.\n",
    "\n",
    "Input:\n",
    "N = 3\n",
    "arr[] = {9,5,3}\n",
    "Output: 6\n",
    "Explanation: \n",
    "There are 3 pairs -\n",
    "9^5 = 12\n",
    "5^3 = 6\n",
    "9^3 = 10\n",
    "Therefore output is 6."
   ]
  },
  {
   "cell_type": "markdown",
   "metadata": {},
   "source": [
    "### Normal Solution"
   ]
  },
  {
   "cell_type": "code",
   "execution_count": 19,
   "metadata": {},
   "outputs": [],
   "source": [
    "\n",
    "class Solution:\n",
    "    def minxorpair (self,N, arr):\n",
    "        minXor=sum(arr)\n",
    "        for i in range(N-1):\n",
    "            for j in range(i+1,N):\n",
    "                tempXor=arr[i]^arr[j]\n",
    "                if tempXor<minXor:\n",
    "                    minXor=tempXor\n",
    "        return minXor\n"
   ]
  },
  {
   "cell_type": "code",
   "execution_count": 21,
   "metadata": {},
   "outputs": [
    {
     "data": {
      "text/plain": [
       "6"
      ]
     },
     "execution_count": 21,
     "metadata": {},
     "output_type": "execute_result"
    }
   ],
   "source": [
    "ob=Solution()\n",
    "arr=[9,5,3]\n",
    "N=len(arr)\n",
    "ob.minxorpair(N,arr)"
   ]
  },
  {
   "cell_type": "markdown",
   "metadata": {},
   "source": [
    "### Optimize Solution"
   ]
  },
  {
   "cell_type": "code",
   "execution_count": 15,
   "metadata": {},
   "outputs": [],
   "source": [
    "class OptimizeSolution:\n",
    "    \n",
    "    def minxorpair (self,N, arr):\n",
    "            # code here \n",
    "            #a,b,c\n",
    "            # if a<= b<=c\n",
    "            # then a xor c will always be greater than a xor b and b xor c\n",
    "\n",
    "            arr.sort()\n",
    "            minXor=arr[N-1]\n",
    "            for i in range(N-1):\n",
    "                    tempXor=arr[i]^arr[i+1]\n",
    "                    if tempXor<minXor:\n",
    "                        minXor=tempXor\n",
    "            return minXor"
   ]
  },
  {
   "cell_type": "code",
   "execution_count": 22,
   "metadata": {},
   "outputs": [
    {
     "data": {
      "text/plain": [
       "6"
      ]
     },
     "execution_count": 22,
     "metadata": {},
     "output_type": "execute_result"
    }
   ],
   "source": [
    "ob=OptimizeSolution()\n",
    "arr=[9,5,3]\n",
    "N=len(arr)\n",
    "ob.minxorpair(N,arr)"
   ]
  },
  {
   "cell_type": "code",
   "execution_count": null,
   "metadata": {},
   "outputs": [],
   "source": []
  }
 ],
 "metadata": {
  "kernelspec": {
   "display_name": "Python 3",
   "language": "python",
   "name": "python3"
  },
  "language_info": {
   "codemirror_mode": {
    "name": "ipython",
    "version": 3
   },
   "file_extension": ".py",
   "mimetype": "text/x-python",
   "name": "python",
   "nbconvert_exporter": "python",
   "pygments_lexer": "ipython3",
   "version": "3.8.3"
  }
 },
 "nbformat": 4,
 "nbformat_minor": 4
}
