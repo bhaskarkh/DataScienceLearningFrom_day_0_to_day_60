{
 "cells": [
  {
   "cell_type": "markdown",
   "metadata": {},
   "source": [
    "# Minimum XOR value pair\n",
    "\n",
    "Given an array of integers of size N find minimum xor of any 2 elements.\n",
    "\n",
    "Input:\n",
    "N = 3\n",
    "arr[] = {9,5,3}\n",
    "Output: 6\n",
    "Explanation: \n",
    "There are 3 pairs -\n",
    "9^5 = 12\n",
    "5^3 = 6\n",
    "9^3 = 10\n",
    "Therefore output is 6."
   ]
  },
  {
   "cell_type": "code",
   "execution_count": null,
   "metadata": {},
   "outputs": [],
   "source": []
  }
 ],
 "metadata": {
  "kernelspec": {
   "display_name": "Python 3",
   "language": "python",
   "name": "python3"
  },
  "language_info": {
   "codemirror_mode": {
    "name": "ipython",
    "version": 3
   },
   "file_extension": ".py",
   "mimetype": "text/x-python",
   "name": "python",
   "nbconvert_exporter": "python",
   "pygments_lexer": "ipython3",
   "version": "3.8.3"
  }
 },
 "nbformat": 4,
 "nbformat_minor": 4
}
