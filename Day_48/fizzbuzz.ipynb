{
 "cells": [
  {
   "cell_type": "markdown",
   "id": "9735fccd",
   "metadata": {},
   "source": [
    "### print number between 1 to 100\n",
    "\n",
    "1. print fizz if % 3\n",
    "2. print buzz if % 5\n",
    "\n",
    "3. if % 3 and % 5 then print fizzbuzz\n"
   ]
  },
  {
   "cell_type": "code",
   "execution_count": 2,
   "id": "dc28ab29",
   "metadata": {},
   "outputs": [
    {
     "name": "stdout",
     "output_type": "stream",
     "text": [
      "1\n",
      "2\n",
      "fizz\n",
      "4\n",
      "buzz\n",
      "fizz\n",
      "7\n",
      "8\n",
      "fizz\n",
      "buzz\n",
      "11\n",
      "fizz\n",
      "13\n",
      "14\n",
      "fizzbuzz\n",
      "16\n",
      "17\n",
      "fizz\n",
      "19\n"
     ]
    }
   ],
   "source": [
    "for i in range(1,20):\n",
    "    three=False\n",
    "    five=False\n",
    "    if i%3==0:\n",
    "        three=True\n",
    "    elif i%5==0:\n",
    "        five=True\n",
    "    else:\n",
    "        print(i)\n",
    "    \n",
    "        "
   ]
  },
  {
   "cell_type": "code",
   "execution_count": null,
   "id": "f8635276",
   "metadata": {},
   "outputs": [],
   "source": []
  }
 ],
 "metadata": {
  "kernelspec": {
   "display_name": "Python 3",
   "language": "python",
   "name": "python3"
  },
  "language_info": {
   "codemirror_mode": {
    "name": "ipython",
    "version": 3
   },
   "file_extension": ".py",
   "mimetype": "text/x-python",
   "name": "python",
   "nbconvert_exporter": "python",
   "pygments_lexer": "ipython3",
   "version": "3.8.1"
  }
 },
 "nbformat": 4,
 "nbformat_minor": 5
}
