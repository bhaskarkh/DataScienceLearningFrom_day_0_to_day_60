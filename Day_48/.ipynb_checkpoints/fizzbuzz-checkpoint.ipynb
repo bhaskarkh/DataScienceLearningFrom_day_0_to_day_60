{
 "cells": [
  {
   "cell_type": "markdown",
   "id": "6d81a847",
   "metadata": {},
   "source": [
    "print number between 1 to 100\n",
    "\n",
    "print fizz if % 3\n",
    "print buzz if % 5\n",
    "\n",
    "if % 3 and % 5 then print fizzbuzz\n"
   ]
  }
 ],
 "metadata": {
  "kernelspec": {
   "display_name": "Python 3",
   "language": "python",
   "name": "python3"
  },
  "language_info": {
   "codemirror_mode": {
    "name": "ipython",
    "version": 3
   },
   "file_extension": ".py",
   "mimetype": "text/x-python",
   "name": "python",
   "nbconvert_exporter": "python",
   "pygments_lexer": "ipython3",
   "version": "3.8.1"
  }
 },
 "nbformat": 4,
 "nbformat_minor": 5
}
