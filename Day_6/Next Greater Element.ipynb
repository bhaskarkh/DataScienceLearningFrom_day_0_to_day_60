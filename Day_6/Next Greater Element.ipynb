{
 "cells": [
  {
   "cell_type": "markdown",
   "metadata": {},
   "source": [
    "# Next Greater Element \n",
    "Given an array arr[ ] of size N having distinct elements, the task is to find the next greater element for each element of the array in order of their appearance in the array.\n",
    "Next greater element of an element in the array is the nearest element on the right which is greater than the current element.\n",
    "If there does not exist next greater of current element, then next greater element for current element is -1. For example, next greater of the last element is always -1."
   ]
  },
  {
   "cell_type": "raw",
   "metadata": {},
   "source": [
    "Input: \n",
    "N = 4, arr[] = [1 3 2 4]\n",
    "Output:\n",
    "3 4 4 -1\n",
    "Explanation:\n",
    "In the array, the next larger element \n",
    "to 1 is 3 , 3 is 4 , 2 is 4 and for 4 ? \n",
    "since it doesn't exist, it is -1."
   ]
  },
  {
   "cell_type": "markdown",
   "metadata": {},
   "source": [
    "# Normal Solution"
   ]
  },
  {
   "cell_type": "code",
   "execution_count": 3,
   "metadata": {},
   "outputs": [],
   "source": [
    "def nextLargerElement(arr,n):\n",
    "        #code here\n",
    "        returnList=[]\n",
    "        for i in range(n):\n",
    "            isGreaterFound=False\n",
    "            for j in range(i+1,n):\n",
    "                if arr[i]<arr[j]:\n",
    "                    isGreaterFound=True\n",
    "                    returnList.append(arr[j])\n",
    "                    break\n",
    "            if not isGreaterFound:\n",
    "                returnList.append(-1)\n",
    "        \n",
    "        return returnList"
   ]
  },
  {
   "cell_type": "code",
   "execution_count": 4,
   "metadata": {},
   "outputs": [
    {
     "name": "stdout",
     "output_type": "stream",
     "text": [
      "[3, 4, 4, -1]\n"
     ]
    }
   ],
   "source": [
    "arr=[1,3,2,4]\n",
    "n=len(arr)\n",
    "print(nextLargerElement(arr,n))"
   ]
  },
  {
   "cell_type": "markdown",
   "metadata": {},
   "source": [
    "# Optimized Solution"
   ]
  },
  {
   "cell_type": "code",
   "execution_count": 52,
   "metadata": {},
   "outputs": [],
   "source": [
    "import numpy as np\n",
    "def optimizednextLargerElement(arr,n):\n",
    "    retutnArray=np.zeros((n,), dtype=int)\n",
    "    noteIndexArray=[]\n",
    "    for i,x in enumerate(arr):\n",
    "        if  i<n-1:\n",
    "            print(i,i+1)\n",
    "            if arr[i]<arr[i+1]:\n",
    "                retutnArray[i]=arr[i+1]\n",
    "            else:\n",
    "                noteIndexArray.append(i)\n",
    "                \n",
    "    for x in noteIndexArray:\n",
    "        pass\n",
    "        \n",
    "        \n",
    "    \n",
    "                \n",
    "    \n",
    "    print(noteIndexArray)\n",
    "    retutnArray[-1]=-1\n",
    "    print(arr)\n",
    "    arr.sort()\n",
    "    \n",
    "    print(arr)\n",
    "    return retutnArray\n",
    "            \n",
    "            \n",
    "        \n",
    "        "
   ]
  },
  {
   "cell_type": "code",
   "execution_count": 60,
   "metadata": {},
   "outputs": [
    {
     "name": "stdout",
     "output_type": "stream",
     "text": [
      "0 1\n",
      "1 2\n",
      "2 3\n",
      "3 4\n",
      "[0, 1, 2]\n",
      "[6, 3, 1, 0, 8]\n",
      "[0, 1, 3, 6, 8]\n",
      "[ 0  0  0  8 -1]\n",
      "ssss\n",
      "aaa\n",
      "rr\n",
      "a\n"
     ]
    }
   ],
   "source": [
    "#arr=[1,3,2,4]\n",
    "\n",
    "arr=[6,3,1,0,8,1]\n",
    "n=len(arr)\n",
    "print(optimizednextLargerElement(arr,n))\n",
    "print(\"ssss\")\n",
    "print(\"aaa\")\n",
    "print(\"rr\")\n",
    "print(\"a\")"
   ]
  },
  {
   "cell_type": "code",
   "execution_count": null,
   "metadata": {},
   "outputs": [],
   "source": []
  }
 ],
 "metadata": {
  "kernelspec": {
   "display_name": "Python 3",
   "language": "python",
   "name": "python3"
  },
  "language_info": {
   "codemirror_mode": {
    "name": "ipython",
    "version": 3
   },
   "file_extension": ".py",
   "mimetype": "text/x-python",
   "name": "python",
   "nbconvert_exporter": "python",
   "pygments_lexer": "ipython3",
   "version": "3.8.3"
  }
 },
 "nbformat": 4,
 "nbformat_minor": 4
}
